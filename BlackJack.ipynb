{
 "cells": [
  {
   "cell_type": "code",
   "execution_count": 1,
   "metadata": {
    "collapsed": false
   },
   "outputs": [],
   "source": [
    "class Card(object):\n",
    "    \n",
    "    def __init__(self,suite,sign):\n",
    "        self.suite=suite\n",
    "        self.sign=sign\n",
    "        \n",
    "    def __isInt(self,s):\n",
    "        try: \n",
    "            int(s)\n",
    "            return True\n",
    "        except ValueError:\n",
    "            return False \n",
    "    \n",
    "    def getValue(self):\n",
    "        if self.__isInt(self.sign):\n",
    "            return self.sign\n",
    "        elif self.sign==\"Q\" or self.sign==\"K\" or self.sign==\"J\":\n",
    "            return 10\n",
    "        elif self.sign==\"A\":\n",
    "            return 11\n",
    "        else:\n",
    "            return 0        \n",
    "pass     \n",
    "                    "
   ]
  },
  {
   "cell_type": "code",
   "execution_count": 2,
   "metadata": {
    "collapsed": false
   },
   "outputs": [],
   "source": [
    "from random import randint\n",
    "class Deck(object):  #make as a stack\n",
    "\n",
    "    suite = []\n",
    "    \n",
    "    def __init__(self,numberOfCards=52):\n",
    "        self.N=numberOfCards\n",
    "        global suite\n",
    "        suite = [\"spade\",\"hearts\",\"club\",\"diamond\"]\n",
    "        self.cards=[]\n",
    "        [[self.cards.append(Card(j,i)) for i in range(2,11)] for j in suite]\n",
    "        [self.cards.append(Card(j,\"Q\")) for j in suite]\n",
    "        [self.cards.append(Card(j,\"K\")) for j in suite]\n",
    "        [self.cards.append(Card(j,\"J\")) for j in suite]\n",
    "        [self.cards.append(Card(j,\"A\")) for j in suite]\n",
    "        self.__shuffle()\n",
    "        \n",
    "    def __shuffle(self):\n",
    "        for i in xrange(len(self.cards)-1,-1,-1):\n",
    "            index=randint(0,len(self.cards)-1)\n",
    "            temp=self.cards[index]\n",
    "            self.cards[index]=self.cards[i]\n",
    "            self.cards[i]=temp\n",
    "        \n",
    "        \n",
    "    def pop(self):\n",
    "        card=self.cards[self.N-1]\n",
    "        self.N-=1\n",
    "        return card\n",
    "    \n",
    "    def __str__(self):\n",
    "        strBuffer=\"\"\n",
    "        for card in self.cards:\n",
    "                strBuffer+= \"( %s: %s )\"%(card.sign ,card.suite) +\" \\n \"\n",
    "        print strBuffer\n",
    "        return strBuffer\n",
    "pass        "
   ]
  },
  {
   "cell_type": "code",
   "execution_count": 3,
   "metadata": {
    "collapsed": false
   },
   "outputs": [],
   "source": [
    "class Person(object):\n",
    "\n",
    "    def __init__(self,amountOfMoney=100):\n",
    "        self.amountOfMoney=amountOfMoney\n",
    "        self.hand=[]\n",
    "        \n",
    "    def takeCard(self,deck):\n",
    "        self.hand.append(deck.pop())\n",
    "        \n",
    "    def getHandValueSum(self):\n",
    "        sum=0\n",
    "        for card in self.hand:\n",
    "            val=card.getValue()\n",
    "            print 'current hand value %d' %val\n",
    "            #check fo A\n",
    "            if val==11 and val+sum>21: \n",
    "                val=1\n",
    "            sum+=val\n",
    "        return sum\n",
    "    \n",
    "    def __str__(self):\n",
    "        strBuffer=\"\"\n",
    "        for card in self.hand:\n",
    "                strBuffer+= \"( %s: %s )\"%(card.sign ,card.suite) +\" \\n \"\n",
    "        strBuffer +=\" Total:\"+str(self.amountOfMoney)\n",
    "        print strBuffer\n",
    "        return strBuffer\n",
    "pass   "
   ]
  },
  {
   "cell_type": "code",
   "execution_count": 4,
   "metadata": {
    "collapsed": false
   },
   "outputs": [],
   "source": [
    "class Dealer(Person):\n",
    "\n",
    "    def __init__(self,amountOfMoney=200):\n",
    "        super(Dealer,self).__init__(amountOfMoney)\n",
    "    \n",
    "        \n",
    "    def getHandValueSum(self):\n",
    "        sum=0\n",
    "        for card in self.hand:\n",
    "            val=card.getValue()\n",
    "            #check fo A\n",
    "            if val==11 and val+sum>21: \n",
    "                val=1\n",
    "            sum+=val\n",
    "        return sum\n",
    "pass       \n",
    "    "
   ]
  },
  {
   "cell_type": "code",
   "execution_count": 5,
   "metadata": {
    "collapsed": false
   },
   "outputs": [],
   "source": [
    "class Player(Person):\n",
    "\n",
    "    def __init__(self,amountOfMoney=100,initialPayment=10):\n",
    "        self.payAmount=initialPayment\n",
    "        super(Player,self).__init__(amountOfMoney)\n",
    "    def passTurn(self):\n",
    "        pass\n",
    "    def hit(self,deck,payAmount=0):\n",
    "        self.payAmount+=payAmount\n",
    "        super(Player,self).takeCard(deck)\n",
    "        pass\n",
    "pass    "
   ]
  },
  {
   "cell_type": "code",
   "execution_count": 6,
   "metadata": {
    "collapsed": false
   },
   "outputs": [],
   "source": [
    "class Game(object):\n",
    "     #the table has $10 initial entrance\n",
    "    def __init__(self,initialPayment=10):\n",
    "        self.initialPayment=initialPayment\n",
    "        pass\n",
    "    \n",
    "    def play(self):\n",
    "        dealer=Dealer(200)\n",
    "        playersNum=0\n",
    "        while True:\n",
    "            try:\n",
    "                playersNum=int(input(\"Enter how many players are on the table:\"))\n",
    "                break\n",
    "            except:\n",
    "                continue\n",
    "                \n",
    "        players=[]\n",
    "        deck=Deck()\n",
    "        str(deck)\n",
    "        for i in range(0,playersNum):\n",
    "            while True:\n",
    "                try:\n",
    "                    print \"Enter how much money player %d has:\"%i\n",
    "                    amount=int(input())\n",
    "                    break\n",
    "                except:\n",
    "                    continue\n",
    "            players.append(Player(amount,self.initialPayment))\n",
    "            players[i].hit(deck,0) # get the initial two cards\n",
    "            players[i].hit(deck,0)\n",
    "            str(players[i])\n",
    "        \n",
    "        #debugging\n",
    "        #for player in players:\n",
    "         #   str(player)\n",
    "            \n",
    "        currentPlayerIndex=0\n",
    "        #turn=0\n",
    "        \n",
    "        while True: # the primary game loop\n",
    "            if currentPlayerIndex==playersNum: #reset the index when one cycle was passed\n",
    "                currentPlayerIndex=0\n",
    "                break\n",
    "                #turn+=1\n",
    "            #if turn>2:\n",
    "                # able to increase the payment after the second card\n",
    "            payAmount=0\n",
    "            while True:\n",
    "                try:\n",
    "                    print \"Enter how much are you(player %d) going to pay:\"%currentPlayerIndex\n",
    "                    payAmount=int(input())\n",
    "                    if payAmount>players[currentPlayerIndex].amountOfMoney:\n",
    "                        print 'Enter amount less than or equal to you total'\n",
    "                        continue\n",
    "                    break\n",
    "                except:\n",
    "                    continue\n",
    "            \n",
    "            players[currentPlayerIndex].amountOfMoney-=payAmount\n",
    "            #if turn>2:\n",
    "            currentHandSum=players[currentPlayerIndex].getHandValueSum()\n",
    "            if currentHandSum==0:  # this player is already out of the game\n",
    "                currentPlayerIndex+=1\n",
    "                continue\n",
    "            if currentHandSum==21:\n",
    "                players[currentPlayerIndex].amountOfMoney*=2\n",
    "            while True:\n",
    "                try:\n",
    "                    hitOrMiss=int(input(format(\"Do you want to hit-1 or pass-0:\")))\n",
    "                    if hitOrMiss==1:\n",
    "                        players[currentPlayerIndex].hit(deck)\n",
    "                    elif hitOrMiss==0:\n",
    "                        players[currentPlayerIndex].passTurn()\n",
    "                    else:\n",
    "                        print 'Enter 1 for hit and 0 for pass'\n",
    "                        continue   \n",
    "                    break\n",
    "                except:\n",
    "                    continue\n",
    "            currentHandSum=players[currentPlayerIndex].getHandValueSum()\n",
    "            print currentHandSum\n",
    "            if currentHandSum==21:\n",
    "                players[currentPlayerIndex].amountOfMoney+=players[currentPlayerIndex].payAmount\n",
    "                players[currentPlayerIndex].hand=[]\n",
    "            if currentHandSum>21:\n",
    "                players[currentPlayerIndex].amountOfMoney-=players[currentPlayerIndex].payAmount\n",
    "                players[currentPlayerIndex].hand=[]\n",
    "            \n",
    "            str(players[currentPlayerIndex])\n",
    "            #for player in players:\n",
    "             #   str(player)   \n",
    "                \n",
    "            currentPlayerIndex+=1\n",
    "        pass\n",
    "        # check who wins in the end of the game\n",
    "        maxSum=players[0]\n",
    "        winner=0\n",
    "        for i in range(1,playersNum):\n",
    "            if players[i].getHandValueSum()>maxSum:\n",
    "                maxSum=players[i].getHandValueSum()\n",
    "                winner=i\n",
    "        players[winner].amountOfMoney+=players[winner].payAmount*2\n",
    "        for i in range(0,playersNum):\n",
    "            print 'Player %d has $ %d total amount with hand %d'%(i,players[i].amountOfMoney,players[i].getHandValueSum())\n",
    "        pass\n",
    "pass"
   ]
  },
  {
   "cell_type": "code",
   "execution_count": 7,
   "metadata": {
    "collapsed": false
   },
   "outputs": [],
   "source": [
    "game1=Game()\n"
   ]
  },
  {
   "cell_type": "code",
   "execution_count": null,
   "metadata": {
    "collapsed": false,
    "scrolled": true
   },
   "outputs": [],
   "source": [
    "game1.play()"
   ]
  },
  {
   "cell_type": "markdown",
   "metadata": {
    "collapsed": false
   },
   "source": []
  },
  {
   "cell_type": "markdown",
   "metadata": {
    "collapsed": false
   },
   "source": [
    "# "
   ]
  },
  {
   "cell_type": "markdown",
   "metadata": {},
   "source": [
    "# "
   ]
  }
 ],
 "metadata": {
  "kernelspec": {
   "display_name": "Python 2",
   "language": "python",
   "name": "python2"
  },
  "language_info": {
   "codemirror_mode": {
    "name": "ipython",
    "version": 2
   },
   "file_extension": ".py",
   "mimetype": "text/x-python",
   "name": "python",
   "nbconvert_exporter": "python",
   "pygments_lexer": "ipython2",
   "version": "2.7.13"
  }
 },
 "nbformat": 4,
 "nbformat_minor": 2
}
